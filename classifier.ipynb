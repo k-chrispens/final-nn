{
 "cells": [
  {
   "cell_type": "markdown",
   "metadata": {},
   "source": [
    "# Classifier\n",
    "### Your task\n",
    "You will implement a multi-layer fully connected neural network using your NeuralNetwork class to predict whether a short DNA sequence is a binding site for the yeast transcription factor Rap1. The training data is incredibly imbalanced, with way fewer positive sequences than negative sequences, so you will implement a sampling scheme to ensure that class imbalance does not affect training. As in step 2, all of the following work should be done in a Jupyter Notebook.\n",
    "\n",
    "### To-do\n",
    "* Use the `read_text_file` function from `io.py` to read in the 137 positive Rap1 motif examples.\n",
    "* Use the `read_fasta_file` function from `io.py` to read in all the negative examples. Note that these sequences are much longer than the positive sequences, so you will need to process them to the same length.\n",
    "* Balance your classes using your `sample_seq` function and explain why you chose the sampling scheme you did.\n",
    "* One-hot encode the data using your `one_hot_encode_seqs` function.\n",
    "* Split the data into training and validation sets.\n",
    "* Generate an instance of your `NeuralNetwork` class with an appropriate architecture.\n",
    "* Train your neural network on the training data.\n",
    "* Plot your training and validation loss by epoch.\n",
    "* Report the accuracy of your classifier on your validation dataset.\n",
    "* Explain your choice of loss function and hyperparameters."
   ]
  },
  {
   "cell_type": "code",
   "execution_count": 44,
   "metadata": {},
   "outputs": [],
   "source": [
    "# Imports\n",
    "import numpy as np\n",
    "import matplotlib.pyplot as plt\n",
    "from nn.io import read_text_file, read_fasta_file\n",
    "from nn.preprocess import sample_seqs, one_hot_encode_seqs\n",
    "from nn.nn import NeuralNetwork\n",
    "\n",
    "np.random.seed(0)"
   ]
  },
  {
   "cell_type": "markdown",
   "metadata": {},
   "source": [
    "## Get data"
   ]
  },
  {
   "cell_type": "code",
   "execution_count": 45,
   "metadata": {},
   "outputs": [
    {
     "name": "stdout",
     "output_type": "stream",
     "text": [
      "positive example:  ACATCCGTGCACCTCCG\n",
      "negative example:  CTTCATGTCAGCCTGCA\n",
      "length:  3300 3300\n",
      "positive samples, negative samples:  137 3163\n",
      "length:  6326 6326\n",
      "positive samples, negative samples:  3163 3163\n"
     ]
    }
   ],
   "source": [
    "pos_seqs = read_text_file(\"data/rap1-lieb-positives.txt\")\n",
    "neg_seqs = read_fasta_file(\"data/yeast-upstream-1k-negative.fa\")\n",
    "\n",
    "len_to_truncate_to = len(pos_seqs[0])\n",
    "neg_seqs = [seq[:len_to_truncate_to] for seq in neg_seqs]\n",
    "\n",
    "print(\"positive example: \", pos_seqs[0])\n",
    "print(\"negative example: \", neg_seqs[0])\n",
    "\n",
    "all_seqs = pos_seqs + neg_seqs\n",
    "all_labels = [1] * len(pos_seqs) + [0] * len(neg_seqs)\n",
    "print(\"length: \", len(all_seqs), len(all_labels))\n",
    "print(\"positive samples, negative samples: \", all_labels.count(1), all_labels.count(0))\n",
    "\n",
    "# Upsample positive sequences\n",
    "all_seqs, all_labels = sample_seqs(all_seqs, all_labels)\n",
    "print(\"length: \", len(all_seqs), len(all_labels))\n",
    "print(\"positive samples, negative samples: \", all_labels.count(1), all_labels.count(0))"
   ]
  },
  {
   "cell_type": "code",
   "execution_count": 46,
   "metadata": {},
   "outputs": [
    {
     "name": "stdout",
     "output_type": "stream",
     "text": [
      "one hot encoded:  [0. 1. 0. 0. 0. 1. 0. 0. 0. 0. 0. 1. 0. 0. 0. 1. 1. 0. 0. 0. 1. 0. 0. 0.\n",
      " 0. 0. 1. 0. 0. 0. 1. 0. 1. 0. 0. 0. 0. 1. 0. 0. 0. 0. 0. 1. 0. 1. 0. 0.\n",
      " 0. 0. 0. 1. 0. 0. 1. 0. 0. 0. 0. 1. 0. 1. 0. 0. 0. 0. 0. 1.] length:  68\n"
     ]
    }
   ],
   "source": [
    "# One hot encode\n",
    "all_seqs = one_hot_encode_seqs(all_seqs)\n",
    "print(\"one hot encoded: \", all_seqs[0], \"length: \", len(all_seqs[0]))"
   ]
  },
  {
   "cell_type": "code",
   "execution_count": 47,
   "metadata": {},
   "outputs": [
    {
     "name": "stdout",
     "output_type": "stream",
     "text": [
      "train length:  5060 5060\n",
      "val length:  1266 1266\n"
     ]
    }
   ],
   "source": [
    "# Random split into training and validation (80/20)\n",
    "np.random.seed(0)\n",
    "indices = np.random.permutation(len(all_seqs))\n",
    "train_seqs = all_seqs[indices[: -len(indices) // 5]]\n",
    "train_labels = np.array(all_labels)[indices[: -len(indices) // 5]]\n",
    "val_seqs = all_seqs[indices[-len(indices) // 5 :]]\n",
    "val_labels = np.array(all_labels)[indices[-len(indices) // 5 :]]\n",
    "print(\"train length: \", len(train_seqs), len(train_labels))\n",
    "print(\"val length: \", len(val_seqs), len(val_labels))"
   ]
  },
  {
   "cell_type": "markdown",
   "metadata": {},
   "source": [
    "## Build model"
   ]
  },
  {
   "cell_type": "code",
   "execution_count": 48,
   "metadata": {},
   "outputs": [],
   "source": [
    "input_length = len(train_seqs[0])"
   ]
  },
  {
   "cell_type": "code",
   "execution_count": 83,
   "metadata": {},
   "outputs": [],
   "source": [
    "nn = NeuralNetwork(\n",
    "    nn_arch=[\n",
    "        {\"input_dim\": input_length, \"output_dim\": input_length, \"activation\": \"relu\"},\n",
    "        {\"input_dim\": input_length, \"output_dim\": 50, \"activation\": \"relu\"},\n",
    "        {\"input_dim\": 50, \"output_dim\": 10, \"activation\": \"relu\"},\n",
    "        {\"input_dim\": 10, \"output_dim\": 1, \"activation\": \"sigmoid\"}\n",
    "    ],\n",
    "    lr=0.001,\n",
    "    seed=0,\n",
    "    batch_size=1,\n",
    "    epochs=200,\n",
    "    loss_function=\"bce\",\n",
    ")"
   ]
  },
  {
   "cell_type": "code",
   "execution_count": 84,
   "metadata": {},
   "outputs": [
    {
     "name": "stdout",
     "output_type": "stream",
     "text": [
      "(5060, 68)\n",
      "(5060,)\n"
     ]
    }
   ],
   "source": [
    "print(train_seqs.shape)\n",
    "print(train_labels.shape)  # labels should get reshaped in nn.backprop"
   ]
  },
  {
   "cell_type": "code",
   "execution_count": 85,
   "metadata": {},
   "outputs": [],
   "source": [
    "per_epoch_loss_train, per_epoch_loss_val = nn.fit(\n",
    "    train_seqs, train_labels, val_seqs, val_labels\n",
    ")"
   ]
  },
  {
   "cell_type": "code",
   "execution_count": 86,
   "metadata": {},
   "outputs": [
    {
     "data": {
      "image/png": "[encoded data removed]",
      "text/plain": [
       "<Figure size 640x480 with 1 Axes>"
      ]
     },
     "metadata": {},
     "output_type": "display_data"
    }
   ],
   "source": [
    "plt.plot(per_epoch_loss_train, label=\"Training loss\")\n",
    "plt.plot(per_epoch_loss_val, label=\"Validation loss\")\n",
    "plt.xlabel(\"Epoch\")\n",
    "plt.ylabel(\"Loss (binary cross entropy)\")\n",
    "plt.legend()\n",
    "plt.grid()\n",
    "plt.show()"
   ]
  },
  {
   "cell_type": "code",
   "execution_count": 88,
   "metadata": {},
   "outputs": [
    {
     "name": "stdout",
     "output_type": "stream",
     "text": [
      "Validation accuracy:  0.5015797788309637\n"
     ]
    }
   ],
   "source": [
    "val_predictions = nn.predict(val_seqs)\n",
    "val_predictions = np.round(val_predictions)\n",
    "val_accuracy = np.mean(val_predictions == val_labels)\n",
    "print(\"Validation accuracy: \", val_accuracy)"
   ]
  },
  {
   "cell_type": "markdown",
   "metadata": {},
   "source": [
    "## Explanation of hyperparameters\n",
    "The accuracy on this is not very good - I tried to improve it for a long time by using different optimization methods, but overall found that I could not seem to get much better than 50% (guessing, essentially). I chose my architecture in order to try and overfit to the dataset during training, and I would then tune it to achieve better generalization on the validation set. I originally tried tuning hyperparameters to fit just one sample, which can help with ensuring that the network is working properly. This showed that the network was constantly predicting some value ~0.5. I tried a range of learning rates, from 0.1 to 0.0000001, and none seem to provide reliable decreases in training loss. I set the batch size to 1 to ensure that the batch averaging was not affecting the learning. I looked directly at the gradients and the partials w.r.t. weights and biases, and noticed that the partials seem very small. The gradient then barely changes, because the weights barely change. Even with a relatively large learning rate (0.1) the partials are very small (~0.01). My binary cross entropy loss and backpropogation functions do the correct calculation, so I am not sure what exactly is wrong. I would like to look into it more, but given my workload in other areas this week, I will not have time before this is due. Perhaps this dataset is just very challenging to learn!\n",
    "\n",
    "The next steps I would do to try and fix this would be to train a classifier on a fake, dummy dataset that I create, just to verify that all my neural network functions are doing what is expected - they pass all the tests and work great on the autoencoder, so it must be specific to the BCE loss or sigmoid. After that, I would try to just learn the small number of original positive samples to see if I could get the network to memorize those, and then move on to training on the whole dataset again."
   ]
  }
 ],
 "metadata": {
  "kernelspec": {
   "display_name": "bmi",
   "language": "python",
   "name": "python3"
  },
  "language_info": {
   "codemirror_mode": {
    "name": "ipython",
    "version": 3
   },
   "file_extension": ".py",
   "mimetype": "text/x-python",
   "name": "python",
   "nbconvert_exporter": "python",
   "pygments_lexer": "ipython3",
   "version": "3.11.4"
  }
 },
 "nbformat": 4,
 "nbformat_minor": 2
}
