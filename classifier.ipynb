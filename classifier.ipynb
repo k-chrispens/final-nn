{
 "cells": [
  {
   "cell_type": "markdown",
   "metadata": {},
   "source": [
    "# Classifier\n",
    "### Your task\n",
    "You will implement a multi-layer fully connected neural network using your NeuralNetwork class to predict whether a short DNA sequence is a binding site for the yeast transcription factor Rap1. The training data is incredibly imbalanced, with way fewer positive sequences than negative sequences, so you will implement a sampling scheme to ensure that class imbalance does not affect training. As in step 2, all of the following work should be done in a Jupyter Notebook.\n",
    "\n",
    "### To-do\n",
    "* Use the `read_text_file` function from `io.py` to read in the 137 positive Rap1 motif examples.\n",
    "* Use the `read_fasta_file` function from `io.py` to read in all the negative examples. Note that these sequences are much longer than the positive sequences, so you will need to process them to the same length.\n",
    "* Balance your classes using your `sample_seq` function and explain why you chose the sampling scheme you did.\n",
    "* One-hot encode the data using your `one_hot_encode_seqs` function.\n",
    "* Split the data into training and validation sets.\n",
    "* Generate an instance of your `NeuralNetwork` class with an appropriate architecture.\n",
    "* Train your neural network on the training data.\n",
    "* Plot your training and validation loss by epoch.\n",
    "* Report the accuracy of your classifier on your validation dataset.\n",
    "* Explain your choice of loss function and hyperparameters."
   ]
  },
  {
   "cell_type": "code",
   "execution_count": 1,
   "metadata": {},
   "outputs": [],
   "source": [
    "# Imports\n",
    "import numpy as np\n",
    "import matplotlib.pyplot as plt\n",
    "from nn.io import read_text_file, read_fasta_file\n",
    "from nn.preprocess import sample_seqs, one_hot_encode_seqs\n",
    "from nn.nn import NeuralNetwork\n",
    "\n",
    "np.random.seed(0)"
   ]
  },
  {
   "cell_type": "markdown",
   "metadata": {},
   "source": [
    "## Get data"
   ]
  },
  {
   "cell_type": "code",
   "execution_count": 2,
   "metadata": {},
   "outputs": [
    {
     "name": "stdout",
     "output_type": "stream",
     "text": [
      "True\n",
      "True\n",
      "False\n",
      "True\n",
      "positive example:  ATCATTTTCTCGATGAAAGCGTTGACCCCACATATCGTTAGTACTCTTGTACCCTATGATTGTGTAGAAACCGAACTACGGTACCTCCTGTTGGTAGTCACGATAGATTATAAAAGTATGTTCCCACCCTATCGACGAGACTGGCATCCTAGGTGTTTGCGGTGTTGGTACGTGCGCAGGTATGTAAGAGTGGTAAACGACGTGGTCAAATTAGGAATACGAATCTAGCCCTAAACCGCAACGCCTCAAATTCGCTCTAATCGAGTTGTCCCTGAACATGTTGAGTGGCCTTATAAGGTCCATAGTTCTCTGACCTTTCCCTTGGGATTCGTCTTCCCAGGACCATAATGCGCGACATCCGTGCACCTCCGATGGCCCGCCACGCCAACCGTTCTTTGGCGTGATTCCCGCCCGATCATCCGAGTAGAGAATTTAATCTGTATATTCGCAATATAACAGGGAAGAGTGTTACCCAATTCTATACGGAGCTTTCGCGTGCGTTAAGCTCGGCAGTAGATGCGCACCGGTACATAAGATCATGCTACGAAAGCTAAAACTGGCACCCTTCCTCTTGGTCCCGATAACACATGGCAAAAATGCAGTTTTAGCATTTTAGCGGCTTAAGCCATAGATCGTGCAACAAGAACTCCCCTCGAGATTCTATGATTTACTTGCTTCCAATGAATGCGTGTTATGGATGCATCGCCACCTCTGACCTTACGACGCGCTGTCGTGGGATGGTGGACATGAAGTCTGGCCGTCGCTGTACCGGAGCTGATCGAGCGCAACAGATCGAGTAACACAGTTAGCTTAGAGATGGAAGCTCCCAGCCTTCTCTGAGCCCCGACGTCTCCGAGGTGGGATCCTTGTGGCTCTCGGCGACCTGATCAAGCTACGCGCTCTGAATCCCAGGGAGTTACGGTACGAAGCGATTAACACACGTCTGCGCTGAGCTAAGGAGTAAGGCGAACCACAGACGAACCTAGCGTCGAGAGAAGCA\n",
      "negative example:  CTTCATGTCAGCCTGCACTTCTGGGTCGTTGAAGTTTCTACCGATCAAACGCTTAGCGTCGAAAACGGTATTCGAAGGATTCATAGCAGCTTGATTCTTAGCAGCATCACCAATCAATCTTTCAGTGTCAGTGAAAGCGACAAAAGATGGAGTGGTTCTGTTACCTTGATCGTTGGCAATAATGTCCACACGATCATTAGCAAAGTGAGCAACACACGAGTATGTTGTACCTAAATCAATACCGACAGCTTTTGACATATTATCTGTTATTTACTTGAATTTTTGTTTCTTGTAATACTTGATTACTTTTCTTTTGATGTGCTTATCTTACAAATAGAGAAAATAAAACAACTTAAGTAAGAATTGGGAAACGAAACTACAACTCAATCCCTTCTCGAAGATACATCAATCCACCCCTTATATAACCTTGAAGTCCTCGAAACGATCAGCTAATCTAAATGGCCCCCCTTCTTTTTGGGTTCTTTCTCTCCCTTTTGCCGCCGATGGAACGTTCTGGAAAAAGAAGAATAATTTAATTACTTTCTCAACTAAAATCTGGAGAAAAAACGCAAATGACAGCTTCTAAACGTTCCGTGTGCTTTCTTTCTAGAATGTTCTGGAAAGTTTACAACAATCCACAAGAACGAAAATGCCGTTGACAATGATGAAACCATCATCCACACACCGCGCACACGTGCTTTATTTCTTTTTCTGAATTTTTTTTTTCCGCCATTTTCAACCAAGGAAATTTTTTTTCTTAGGGCTCAGAACCTGCAGGTGAAGAAGCGCTTTAGAAATCAAAGCACAACGTAACAATTTGTCGACAACCGAGCCTTTGAAGAAAAAATTTTTCACATTGTCGCCTCTAAATAAATAGTTTAAGGTTATCTACCCACTATATTTAGTTGGTTCTTTTTTTTTTCCTTCTACTCTTTATCTTTTTACCTCATGCTTTCTACCTTTCAGCACTGAAGAGTCCAACCGAATATATACACACATA\n",
      "(3300,)\n",
      "length before sample:  3300 3300\n",
      "positive samples, negative samples:  137 3163\n",
      "length after sample:  6326 6326\n",
      "positive samples, negative samples:  3163 3163\n"
     ]
    }
   ],
   "source": [
    "pos_seqs = read_text_file(\"data/rap1-lieb-positives.txt\")\n",
    "neg_seqs = read_fasta_file(\"data/yeast-upstream-1k-negative.fa\")\n",
    "\n",
    "# Generate random sequences for positive samples to insert into\n",
    "# NOTE: This was something I did after discussing with Dru\n",
    "len_to_pad_to = len(neg_seqs[0])\n",
    "seqs_to_insert_into = np.array([\"\".join(np.random.choice(['A', 'C', 'G', 'T'], len_to_pad_to)) for _ in range(len(pos_seqs))])\n",
    "print(np.all([len(seq) == len_to_pad_to for seq in seqs_to_insert_into]))\n",
    "insert_at = np.random.randint(0, len_to_pad_to - 17, len(pos_seqs))\n",
    "\n",
    "# Insert positive samples into random sequences (pos seqs are length 17)\n",
    "pos_seqs = np.array([seq[:i] + insert + seq[i+17:] for seq, i, insert in zip(seqs_to_insert_into, insert_at, pos_seqs)])\n",
    "print(np.all([len(seq) == len_to_pad_to for seq in pos_seqs]))\n",
    "print(np.all([len(seq) == len_to_pad_to for seq in neg_seqs]))\n",
    "\n",
    "# pad up to length 1000 for all negative sequences\n",
    "neg_seqs = np.array([seq + \"\".join(np.random.choice(['A', 'C', 'G', 'T'], 1000 - len(seq))) for seq in neg_seqs])\n",
    "print(np.all([len(seq) == len_to_pad_to for seq in neg_seqs]))\n",
    "\n",
    "print(\"positive example: \", pos_seqs[0])\n",
    "print(\"negative example: \", neg_seqs[0])\n",
    "\n",
    "all_seqs = np.concatenate((pos_seqs, neg_seqs))\n",
    "print(all_seqs.shape)\n",
    "all_labels = [1] * len(pos_seqs) + [0] * len(neg_seqs)\n",
    "print(\"length before sample: \", len(all_seqs), len(all_labels))\n",
    "print(\"positive samples, negative samples: \", all_labels.count(1), all_labels.count(0))\n",
    "\n",
    "# Upsample positive sequences\n",
    "all_seqs, all_labels = sample_seqs(all_seqs, all_labels)\n",
    "print(\"length after sample: \", len(all_seqs), len(all_labels))\n",
    "print(\"positive samples, negative samples: \", all_labels.count(1), all_labels.count(0))"
   ]
  },
  {
   "cell_type": "code",
   "execution_count": 3,
   "metadata": {},
   "outputs": [
    {
     "name": "stdout",
     "output_type": "stream",
     "text": [
      "one hot encoded:  [0. 1. 0. ... 0. 0. 0.] length:  4000\n"
     ]
    }
   ],
   "source": [
    "# One hot encode\n",
    "all_seqs = one_hot_encode_seqs(all_seqs)\n",
    "print(\"one hot encoded: \", all_seqs[0], \"length: \", len(all_seqs[0]))"
   ]
  },
  {
   "cell_type": "code",
   "execution_count": 4,
   "metadata": {},
   "outputs": [
    {
     "name": "stdout",
     "output_type": "stream",
     "text": [
      "train length:  5060 5060\n",
      "val length:  1266 1266\n"
     ]
    }
   ],
   "source": [
    "# Random split into training and validation (80/20)\n",
    "np.random.seed(0)\n",
    "indices = np.random.permutation(len(all_seqs))\n",
    "train_seqs = all_seqs[indices[: -len(indices) // 5]]\n",
    "train_labels = np.array(all_labels)[indices[: -len(indices) // 5]]\n",
    "val_seqs = all_seqs[indices[-len(indices) // 5 :]]\n",
    "val_labels = np.array(all_labels)[indices[-len(indices) // 5 :]]\n",
    "print(\"train length: \", len(train_seqs), len(train_labels))\n",
    "print(\"val length: \", len(val_seqs), len(val_labels))"
   ]
  },
  {
   "cell_type": "markdown",
   "metadata": {},
   "source": [
    "## Build model"
   ]
  },
  {
   "cell_type": "code",
   "execution_count": 5,
   "metadata": {},
   "outputs": [
    {
     "name": "stdout",
     "output_type": "stream",
     "text": [
      "4000\n"
     ]
    }
   ],
   "source": [
    "input_length = len(train_seqs[0])\n",
    "print(input_length)"
   ]
  },
  {
   "cell_type": "code",
   "execution_count": 18,
   "metadata": {},
   "outputs": [],
   "source": [
    "nn = NeuralNetwork(\n",
    "    nn_arch=[\n",
    "        {\"input_dim\": input_length, \"output_dim\": 500, \"activation\": \"relu\"},\n",
    "        {\"input_dim\": 500, \"output_dim\": 250, \"activation\": \"relu\"},\n",
    "        {\"input_dim\": 250, \"output_dim\": 50, \"activation\": \"relu\"},\n",
    "        {\"input_dim\": 50, \"output_dim\": 1, \"activation\": \"sigmoid\"}\n",
    "    ],\n",
    "    lr=0.1,\n",
    "    seed=0,\n",
    "    batch_size=100,\n",
    "    epochs=200,\n",
    "    loss_function=\"bce\",\n",
    ")"
   ]
  },
  {
   "cell_type": "code",
   "execution_count": 19,
   "metadata": {},
   "outputs": [
    {
     "name": "stdout",
     "output_type": "stream",
     "text": [
      "(5060, 4000)\n",
      "(5060,)\n"
     ]
    }
   ],
   "source": [
    "print(train_seqs.shape)\n",
    "print(train_labels.shape)  # labels should get reshaped in nn.backprop"
   ]
  },
  {
   "cell_type": "code",
   "execution_count": 20,
   "metadata": {},
   "outputs": [],
   "source": [
    "per_epoch_loss_train, per_epoch_loss_val = nn.fit(\n",
    "    train_seqs, train_labels, val_seqs, val_labels\n",
    ")"
   ]
  },
  {
   "cell_type": "code",
   "execution_count": 21,
   "metadata": {},
   "outputs": [
    {
     "data": {
      "image/png": "[encoded data removed]",
      "text/plain": [
       "<Figure size 640x480 with 1 Axes>"
      ]
     },
     "metadata": {},
     "output_type": "display_data"
    }
   ],
   "source": [
    "plt.plot(per_epoch_loss_train, label=\"Training loss\")\n",
    "plt.plot(per_epoch_loss_val, label=\"Validation loss\")\n",
    "plt.xlabel(\"Epoch\")\n",
    "plt.ylabel(\"Loss (binary cross entropy)\")\n",
    "plt.legend()\n",
    "plt.grid()\n",
    "plt.show()"
   ]
  },
  {
   "cell_type": "code",
   "execution_count": 22,
   "metadata": {},
   "outputs": [
    {
     "name": "stdout",
     "output_type": "stream",
     "text": [
      "Validation accuracy:  0.48183254344391785\n"
     ]
    }
   ],
   "source": [
    "val_predictions = nn.predict(val_seqs)\n",
    "val_predictions = np.round(val_predictions)\n",
    "val_accuracy = np.mean(val_predictions == val_labels)\n",
    "print(\"Validation accuracy: \", val_accuracy)"
   ]
  },
  {
   "cell_type": "code",
   "execution_count": 23,
   "metadata": {},
   "outputs": [
    {
     "name": "stdout",
     "output_type": "stream",
     "text": [
      "[[610.   0.]\n",
      " [656.   0.]]\n"
     ]
    },
    {
     "name": "stderr",
     "output_type": "stream",
     "text": [
      "/var/folders/dk/qssfz_y127l475pyh6f7y0yw0000gp/T/ipykernel_75785/3428146520.py:4: DeprecationWarning: Conversion of an array with ndim > 0 to a scalar is deprecated, and will error in future. Ensure you extract a single element from your array before performing this operation. (Deprecated NumPy 1.25.)\n",
      "  confusion_matrix[int(val_labels[i])][int(val_predictions[i])] += 1\n"
     ]
    }
   ],
   "source": [
    "# Confusion matrix\n",
    "confusion_matrix = np.zeros((2, 2))\n",
    "for i in range(len(val_predictions)):\n",
    "    confusion_matrix[int(val_labels[i])][int(val_predictions[i])] += 1\n",
    "\n",
    "# plt.imshow(confusion_matrix, cmap=\"Blues\")\n",
    "# plt.xlabel(\"Predicted\")\n",
    "# plt.ylabel(\"True\")\n",
    "print(confusion_matrix)"
   ]
  },
  {
   "cell_type": "markdown",
   "metadata": {},
   "source": [
    "## Explanation of hyperparameters\n",
    "The accuracy on this terrible - I tried to improve it for a long time by using different optimization methods, but overall found that I could not seem to get much better than 50% (guessing, essentially). I chose my architecture in order to try and overfit to the dataset during training, and I would then tune it to achieve better generalization on the validation set. I originally tried tuning hyperparameters to fit just one sample, which can help with ensuring that the network is working properly. This showed that the network was constantly predicting some value ~0.5. I tried a range of learning rates, from 0.1 to 0.0000001, and none seem to provide reliable decreases in training loss. I set the batch size to 1 to ensure that the batch averaging was not affecting the learning. I looked directly at the gradients and the partials w.r.t. weights and biases, and noticed that the partials seem very small. The gradient then barely changes, because the weights barely change. Even with a relatively large learning rate (0.1) the partials are very small (~0.01). My binary cross entropy loss and backpropogation functions do the correct calculation, so I am not sure what exactly is wrong. I would like to look into it more, but given my workload in other areas this week, I will not have time before this is due. Perhaps this dataset is just very challenging to learn!\n",
    "\n",
    "The next steps I would do to try and fix this would be to train a classifier on a fake, dummy dataset that I create, just to verify that all my neural network functions are doing what is expected - they pass all the tests and work great on the autoencoder, so it must be specific to the BCE loss or sigmoid. After that, I would try to just learn the small number of original positive samples to see if I could get the network to memorize those, and then move on to training on the whole dataset again."
   ]
  }
 ],
 "metadata": {
  "kernelspec": {
   "display_name": "bmi",
   "language": "python",
   "name": "python3"
  },
  "language_info": {
   "codemirror_mode": {
    "name": "ipython",
    "version": 3
   },
   "file_extension": ".py",
   "mimetype": "text/x-python",
   "name": "python",
   "nbconvert_exporter": "python",
   "pygments_lexer": "ipython3",
   "version": "3.11.4"
  }
 },
 "nbformat": 4,
 "nbformat_minor": 2
}
